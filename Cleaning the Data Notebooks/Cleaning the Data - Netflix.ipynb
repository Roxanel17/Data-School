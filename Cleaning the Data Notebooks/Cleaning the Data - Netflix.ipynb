{
 "cells": [
  {
   "cell_type": "markdown",
   "id": "30ddc1b5",
   "metadata": {},
   "source": [
    "## CLEANING THE DATA FOR NETFLIX DATASET"
   ]
  },
  {
   "cell_type": "markdown",
   "id": "ded66e27",
   "metadata": {},
   "source": [
    "Import libraries"
   ]
  },
  {
   "cell_type": "code",
   "execution_count": 36,
   "id": "d61aa26d",
   "metadata": {},
   "outputs": [],
   "source": [
    "import pandas as pd\n",
    "import numpy as np"
   ]
  },
  {
   "cell_type": "markdown",
   "id": "0fa9dff7",
   "metadata": {},
   "source": [
    "Load data"
   ]
  },
  {
   "cell_type": "markdown",
   "id": "8abc33e7",
   "metadata": {},
   "source": [
    "Tip: Change encoding from 'latin-1' to 'utf-8' to get rid of special characters that may appear in the dataset. "
   ]
  },
  {
   "cell_type": "code",
   "execution_count": 37,
   "id": "8e96aa53",
   "metadata": {},
   "outputs": [
    {
     "data": {
      "text/html": [
       "<div>\n",
       "<style scoped>\n",
       "    .dataframe tbody tr th:only-of-type {\n",
       "        vertical-align: middle;\n",
       "    }\n",
       "\n",
       "    .dataframe tbody tr th {\n",
       "        vertical-align: top;\n",
       "    }\n",
       "\n",
       "    .dataframe thead th {\n",
       "        text-align: right;\n",
       "    }\n",
       "</style>\n",
       "<table border=\"1\" class=\"dataframe\">\n",
       "  <thead>\n",
       "    <tr style=\"text-align: right;\">\n",
       "      <th></th>\n",
       "      <th>show_id</th>\n",
       "      <th>type</th>\n",
       "      <th>title</th>\n",
       "      <th>director</th>\n",
       "      <th>cast</th>\n",
       "      <th>country</th>\n",
       "      <th>date_added</th>\n",
       "      <th>release_year</th>\n",
       "      <th>rating</th>\n",
       "      <th>duration</th>\n",
       "      <th>listed_in</th>\n",
       "      <th>description</th>\n",
       "    </tr>\n",
       "  </thead>\n",
       "  <tbody>\n",
       "    <tr>\n",
       "      <th>0</th>\n",
       "      <td>1</td>\n",
       "      <td>Movie</td>\n",
       "      <td>Dick Johnson Is Dead</td>\n",
       "      <td>Kirsten Johnson</td>\n",
       "      <td>NaN</td>\n",
       "      <td>United States</td>\n",
       "      <td>25-Sep-21</td>\n",
       "      <td>2020</td>\n",
       "      <td>PG-13</td>\n",
       "      <td>90 min</td>\n",
       "      <td>Documentaries</td>\n",
       "      <td>As her father nears the end of his life; filmm...</td>\n",
       "    </tr>\n",
       "    <tr>\n",
       "      <th>1</th>\n",
       "      <td>2</td>\n",
       "      <td>TV Show</td>\n",
       "      <td>Blood &amp; Water</td>\n",
       "      <td>NaN</td>\n",
       "      <td>Ama Qamata; Khosi Ngema; Gail Mabalane; Thaban...</td>\n",
       "      <td>South Africa</td>\n",
       "      <td>24-Sep-21</td>\n",
       "      <td>2021</td>\n",
       "      <td>TV-MA</td>\n",
       "      <td>2 Seasons</td>\n",
       "      <td>International TV Shows; TV Dramas; TV Mysteries</td>\n",
       "      <td>After crossing paths at a party; a Cape Town t...</td>\n",
       "    </tr>\n",
       "    <tr>\n",
       "      <th>2</th>\n",
       "      <td>3</td>\n",
       "      <td>TV Show</td>\n",
       "      <td>Ganglands</td>\n",
       "      <td>Julien Leclercq</td>\n",
       "      <td>Sami Bouajila; Tracy Gotoas; Samuel Jouy; Nabi...</td>\n",
       "      <td>NaN</td>\n",
       "      <td>24-Sep-21</td>\n",
       "      <td>2021</td>\n",
       "      <td>TV-MA</td>\n",
       "      <td>1 Season</td>\n",
       "      <td>Crime TV Shows; International TV Shows; TV Act...</td>\n",
       "      <td>To protect his family from a powerful drug lor...</td>\n",
       "    </tr>\n",
       "    <tr>\n",
       "      <th>3</th>\n",
       "      <td>4</td>\n",
       "      <td>TV Show</td>\n",
       "      <td>Jailbirds New Orleans</td>\n",
       "      <td>NaN</td>\n",
       "      <td>NaN</td>\n",
       "      <td>NaN</td>\n",
       "      <td>24-Sep-21</td>\n",
       "      <td>2021</td>\n",
       "      <td>TV-MA</td>\n",
       "      <td>1 Season</td>\n",
       "      <td>Docuseries; Reality TV</td>\n",
       "      <td>Feuds; flirtations and toilet talk go down amo...</td>\n",
       "    </tr>\n",
       "    <tr>\n",
       "      <th>4</th>\n",
       "      <td>5</td>\n",
       "      <td>TV Show</td>\n",
       "      <td>Kota Factory</td>\n",
       "      <td>NaN</td>\n",
       "      <td>Mayur More; Jitendra Kumar; Ranjan Raj; Alam K...</td>\n",
       "      <td>India</td>\n",
       "      <td>24-Sep-21</td>\n",
       "      <td>2021</td>\n",
       "      <td>TV-MA</td>\n",
       "      <td>2 Seasons</td>\n",
       "      <td>International TV Shows; Romantic TV Shows; TV ...</td>\n",
       "      <td>In a city of coaching centers known to train I...</td>\n",
       "    </tr>\n",
       "  </tbody>\n",
       "</table>\n",
       "</div>"
      ],
      "text/plain": [
       "   show_id     type                  title         director  \\\n",
       "0        1    Movie   Dick Johnson Is Dead  Kirsten Johnson   \n",
       "1        2  TV Show          Blood & Water              NaN   \n",
       "2        3  TV Show              Ganglands  Julien Leclercq   \n",
       "3        4  TV Show  Jailbirds New Orleans              NaN   \n",
       "4        5  TV Show           Kota Factory              NaN   \n",
       "\n",
       "                                                cast        country  \\\n",
       "0                                                NaN  United States   \n",
       "1  Ama Qamata; Khosi Ngema; Gail Mabalane; Thaban...   South Africa   \n",
       "2  Sami Bouajila; Tracy Gotoas; Samuel Jouy; Nabi...            NaN   \n",
       "3                                                NaN            NaN   \n",
       "4  Mayur More; Jitendra Kumar; Ranjan Raj; Alam K...          India   \n",
       "\n",
       "  date_added  release_year rating   duration  \\\n",
       "0  25-Sep-21          2020  PG-13     90 min   \n",
       "1  24-Sep-21          2021  TV-MA  2 Seasons   \n",
       "2  24-Sep-21          2021  TV-MA   1 Season   \n",
       "3  24-Sep-21          2021  TV-MA   1 Season   \n",
       "4  24-Sep-21          2021  TV-MA  2 Seasons   \n",
       "\n",
       "                                           listed_in  \\\n",
       "0                                      Documentaries   \n",
       "1    International TV Shows; TV Dramas; TV Mysteries   \n",
       "2  Crime TV Shows; International TV Shows; TV Act...   \n",
       "3                             Docuseries; Reality TV   \n",
       "4  International TV Shows; Romantic TV Shows; TV ...   \n",
       "\n",
       "                                         description  \n",
       "0  As her father nears the end of his life; filmm...  \n",
       "1  After crossing paths at a party; a Cape Town t...  \n",
       "2  To protect his family from a powerful drug lor...  \n",
       "3  Feuds; flirtations and toilet talk go down amo...  \n",
       "4  In a city of coaching centers known to train I...  "
      ]
     },
     "execution_count": 37,
     "metadata": {},
     "output_type": "execute_result"
    }
   ],
   "source": [
    "#df = pd.read_csv(\"DataSchool_Netflix copy.csv\", encoding = 'latin-1')\n",
    "df = pd.read_csv(\"../date raw/DataSchool_Netflix.csv\", encoding = 'utf-8')\n",
    "df.head()"
   ]
  },
  {
   "cell_type": "code",
   "execution_count": 38,
   "id": "10e97436",
   "metadata": {},
   "outputs": [
    {
     "name": "stdout",
     "output_type": "stream",
     "text": [
      "<class 'pandas.core.frame.DataFrame'>\n",
      "RangeIndex: 8807 entries, 0 to 8806\n",
      "Data columns (total 12 columns):\n",
      " #   Column        Non-Null Count  Dtype \n",
      "---  ------        --------------  ----- \n",
      " 0   show_id       8807 non-null   int64 \n",
      " 1   type          8807 non-null   object\n",
      " 2   title         8807 non-null   object\n",
      " 3   director      6173 non-null   object\n",
      " 4   cast          7982 non-null   object\n",
      " 5   country       7976 non-null   object\n",
      " 6   date_added    8797 non-null   object\n",
      " 7   release_year  8807 non-null   int64 \n",
      " 8   rating        8806 non-null   object\n",
      " 9   duration      8807 non-null   object\n",
      " 10  listed_in     8807 non-null   object\n",
      " 11  description   8807 non-null   object\n",
      "dtypes: int64(2), object(10)\n",
      "memory usage: 825.8+ KB\n"
     ]
    }
   ],
   "source": [
    "df.info()"
   ]
  },
  {
   "cell_type": "markdown",
   "id": "9d146822",
   "metadata": {},
   "source": [
    "Step 1: Find the percentage of missing data in order to make decisions in order to drop or input the values"
   ]
  },
  {
   "cell_type": "markdown",
   "id": "8ad91fee",
   "metadata": {},
   "source": [
    "Percentage of missing data for each feature\n",
    "- For 'director' -> 29.91%\n",
    "- For 'cast' -> 9.37%\n",
    "- For 'country' -> 9.44%\n",
    "- For 'date_added' -> 0.11%, we have only 10 missing values\n",
    "- For 'rating' -> 0.01%, we have only 1 missing values"
   ]
  },
  {
   "cell_type": "code",
   "execution_count": 39,
   "id": "7d5fafbd",
   "metadata": {},
   "outputs": [
    {
     "data": {
      "text/plain": [
       "29.908027705234474"
      ]
     },
     "execution_count": 39,
     "metadata": {},
     "output_type": "execute_result"
    }
   ],
   "source": [
    "df[\"director\"].isnull().sum()/len(df[\"director\"])*100"
   ]
  },
  {
   "cell_type": "code",
   "execution_count": 40,
   "id": "494792fc",
   "metadata": {},
   "outputs": [
    {
     "data": {
      "text/plain": [
       "9.367548540933349"
      ]
     },
     "execution_count": 40,
     "metadata": {},
     "output_type": "execute_result"
    }
   ],
   "source": [
    "df[\"cast\"].isnull().sum()/len(df[\"cast\"])*100"
   ]
  },
  {
   "cell_type": "code",
   "execution_count": 41,
   "id": "b74dc41b",
   "metadata": {},
   "outputs": [
    {
     "data": {
      "text/plain": [
       "9.435676166685592"
      ]
     },
     "execution_count": 41,
     "metadata": {},
     "output_type": "execute_result"
    }
   ],
   "source": [
    "df[\"country\"].isnull().sum()/len(df[\"country\"])*100"
   ]
  },
  {
   "cell_type": "code",
   "execution_count": 42,
   "id": "1b0535cb",
   "metadata": {},
   "outputs": [
    {
     "data": {
      "text/plain": [
       "0.11354604292040424"
      ]
     },
     "execution_count": 42,
     "metadata": {},
     "output_type": "execute_result"
    }
   ],
   "source": [
    "df[\"date_added\"].isnull().sum()/len(df[\"date_added\"])*100"
   ]
  },
  {
   "cell_type": "code",
   "execution_count": 43,
   "id": "2adac7bd",
   "metadata": {},
   "outputs": [
    {
     "data": {
      "text/plain": [
       "0.011354604292040422"
      ]
     },
     "execution_count": 43,
     "metadata": {},
     "output_type": "execute_result"
    }
   ],
   "source": [
    "df[\"rating\"].isnull().sum()/len(df[\"rating\"])*100"
   ]
  },
  {
   "cell_type": "markdown",
   "id": "cf7bf7ee",
   "metadata": {},
   "source": [
    "Step 2: Remove duplicates based on all columns"
   ]
  },
  {
   "cell_type": "code",
   "execution_count": 44,
   "id": "27cd724f",
   "metadata": {},
   "outputs": [],
   "source": [
    "df.drop_duplicates(inplace=True)\n",
    "df.drop_duplicates(subset='title', inplace=True)"
   ]
  },
  {
   "cell_type": "code",
   "execution_count": 45,
   "id": "61ac1405",
   "metadata": {},
   "outputs": [
    {
     "name": "stdout",
     "output_type": "stream",
     "text": [
      "<class 'pandas.core.frame.DataFrame'>\n",
      "Int64Index: 8794 entries, 0 to 8806\n",
      "Data columns (total 12 columns):\n",
      " #   Column        Non-Null Count  Dtype \n",
      "---  ------        --------------  ----- \n",
      " 0   show_id       8794 non-null   int64 \n",
      " 1   type          8794 non-null   object\n",
      " 2   title         8794 non-null   object\n",
      " 3   director      6171 non-null   object\n",
      " 4   cast          7969 non-null   object\n",
      " 5   country       7965 non-null   object\n",
      " 6   date_added    8794 non-null   object\n",
      " 7   release_year  8794 non-null   int64 \n",
      " 8   rating        8793 non-null   object\n",
      " 9   duration      8794 non-null   object\n",
      " 10  listed_in     8794 non-null   object\n",
      " 11  description   8794 non-null   object\n",
      "dtypes: int64(2), object(10)\n",
      "memory usage: 893.1+ KB\n"
     ]
    }
   ],
   "source": [
    "df.dropna(subset = ['date_added'], inplace=True)\n",
    "df.info()"
   ]
  },
  {
   "cell_type": "code",
   "execution_count": 46,
   "id": "6fb7d67a",
   "metadata": {},
   "outputs": [
    {
     "data": {
      "text/html": [
       "<div>\n",
       "<style scoped>\n",
       "    .dataframe tbody tr th:only-of-type {\n",
       "        vertical-align: middle;\n",
       "    }\n",
       "\n",
       "    .dataframe tbody tr th {\n",
       "        vertical-align: top;\n",
       "    }\n",
       "\n",
       "    .dataframe thead th {\n",
       "        text-align: right;\n",
       "    }\n",
       "</style>\n",
       "<table border=\"1\" class=\"dataframe\">\n",
       "  <thead>\n",
       "    <tr style=\"text-align: right;\">\n",
       "      <th></th>\n",
       "      <th>show_id</th>\n",
       "      <th>type</th>\n",
       "      <th>title</th>\n",
       "      <th>director</th>\n",
       "      <th>cast</th>\n",
       "      <th>country</th>\n",
       "      <th>date_added</th>\n",
       "      <th>release_year</th>\n",
       "      <th>rating</th>\n",
       "      <th>duration</th>\n",
       "      <th>listed_in</th>\n",
       "      <th>description</th>\n",
       "    </tr>\n",
       "  </thead>\n",
       "  <tbody>\n",
       "    <tr>\n",
       "      <th>7537</th>\n",
       "      <td>7538</td>\n",
       "      <td>Movie</td>\n",
       "      <td>My Honor Was Loyalty</td>\n",
       "      <td>Alessandro Pepe</td>\n",
       "      <td>Leone Frisa; Paolo Vaccarino; Francesco Miglio...</td>\n",
       "      <td>Italy</td>\n",
       "      <td>1-Mar-17</td>\n",
       "      <td>2015</td>\n",
       "      <td>NaN</td>\n",
       "      <td>115 min</td>\n",
       "      <td>Dramas</td>\n",
       "      <td>Amid the chaos and horror of World War II; a c...</td>\n",
       "    </tr>\n",
       "  </tbody>\n",
       "</table>\n",
       "</div>"
      ],
      "text/plain": [
       "      show_id   type                 title         director  \\\n",
       "7537     7538  Movie  My Honor Was Loyalty  Alessandro Pepe   \n",
       "\n",
       "                                                   cast country date_added  \\\n",
       "7537  Leone Frisa; Paolo Vaccarino; Francesco Miglio...   Italy   1-Mar-17   \n",
       "\n",
       "      release_year rating duration listed_in  \\\n",
       "7537          2015    NaN  115 min    Dramas   \n",
       "\n",
       "                                            description  \n",
       "7537  Amid the chaos and horror of World War II; a c...  "
      ]
     },
     "execution_count": 46,
     "metadata": {},
     "output_type": "execute_result"
    }
   ],
   "source": [
    "df.loc[df['title']=='My Honor Was Loyalty']"
   ]
  },
  {
   "cell_type": "code",
   "execution_count": 47,
   "id": "2155abcb",
   "metadata": {},
   "outputs": [],
   "source": [
    "df.loc[7537, 'rating']='PG-13'"
   ]
  },
  {
   "cell_type": "markdown",
   "id": "0637ff6a",
   "metadata": {},
   "source": [
    "Step 3: Format data as YYYY-MM-DD (e.g. 2021-09-25)"
   ]
  },
  {
   "cell_type": "code",
   "execution_count": 48,
   "id": "f7bce707",
   "metadata": {},
   "outputs": [
    {
     "data": {
      "text/plain": [
       "0    25-Sep-21\n",
       "1    24-Sep-21\n",
       "Name: date_added, dtype: object"
      ]
     },
     "execution_count": 48,
     "metadata": {},
     "output_type": "execute_result"
    }
   ],
   "source": [
    "df['date_added'].head(2)"
   ]
  },
  {
   "cell_type": "code",
   "execution_count": 49,
   "id": "8f1c6289",
   "metadata": {},
   "outputs": [
    {
     "data": {
      "text/plain": [
       "0    2021-09-25\n",
       "1    2021-09-24\n",
       "2    2021-09-24\n",
       "3    2021-09-24\n",
       "4    2021-09-24\n",
       "Name: date_added, dtype: object"
      ]
     },
     "execution_count": 49,
     "metadata": {},
     "output_type": "execute_result"
    }
   ],
   "source": [
    "df[\"date_added\"] = pd.to_datetime(df[\"date_added\"]).dt.date\n",
    "df[\"date_added\"].head()"
   ]
  },
  {
   "cell_type": "markdown",
   "id": "a4ac9b37",
   "metadata": {},
   "source": [
    "Step 4: Fix the problems with rating column"
   ]
  },
  {
   "cell_type": "code",
   "execution_count": 50,
   "id": "2e1b4919",
   "metadata": {},
   "outputs": [
    {
     "data": {
      "text/plain": [
       "0    PG-13\n",
       "1    TV-MA\n",
       "2    TV-MA\n",
       "Name: rating, dtype: object"
      ]
     },
     "execution_count": 50,
     "metadata": {},
     "output_type": "execute_result"
    }
   ],
   "source": [
    "df['rating'].head(3)"
   ]
  },
  {
   "cell_type": "code",
   "execution_count": 51,
   "id": "d53edab6",
   "metadata": {},
   "outputs": [],
   "source": [
    "# Replace \"-\", \"\", \" \", np.NaN with Not Rated\n",
    "df['rating'].replace('-', 'Not Rated', inplace=True)\n",
    "df['rating'].replace('', 'Not Rated', inplace=True)\n",
    "df['rating'].replace(' ', 'Not Rated', inplace=True)\n",
    "df['rating'].replace(np.NaN, 'Not Rated', inplace=True)"
   ]
  },
  {
   "cell_type": "code",
   "execution_count": 52,
   "id": "8a15fd21",
   "metadata": {},
   "outputs": [],
   "source": [
    "# Replace \"-\", \"\", \" \", np.NaN with Not Rated\n",
    "df['duration'].replace('-', 'Not Rated', inplace=True)\n",
    "df['duration'].mask(df['duration'].eq('Not Rated'), df['rating'], inplace=True)"
   ]
  },
  {
   "cell_type": "code",
   "execution_count": 53,
   "id": "09021fcb",
   "metadata": {},
   "outputs": [],
   "source": [
    "df['rating'] = np.where(df['rating'] =='74 min', 'Not Rated', df['rating'])\n",
    "df['rating'] = np.where(df['rating'] =='84 min', 'Not Rated', df['rating'])\n",
    "df['rating'] = np.where(df['rating'] =='66 min', 'Not Rated', df['rating'])"
   ]
  },
  {
   "cell_type": "markdown",
   "id": "78349dea",
   "metadata": {},
   "source": [
    "Step 5: Split duration column into duration as a number and unit_of_measure (min for movies and season for tv shows)"
   ]
  },
  {
   "cell_type": "code",
   "execution_count": 54,
   "id": "b77c174e",
   "metadata": {},
   "outputs": [
    {
     "data": {
      "text/html": [
       "<div>\n",
       "<style scoped>\n",
       "    .dataframe tbody tr th:only-of-type {\n",
       "        vertical-align: middle;\n",
       "    }\n",
       "\n",
       "    .dataframe tbody tr th {\n",
       "        vertical-align: top;\n",
       "    }\n",
       "\n",
       "    .dataframe thead th {\n",
       "        text-align: right;\n",
       "    }\n",
       "</style>\n",
       "<table border=\"1\" class=\"dataframe\">\n",
       "  <thead>\n",
       "    <tr style=\"text-align: right;\">\n",
       "      <th></th>\n",
       "      <th>show_id</th>\n",
       "      <th>type</th>\n",
       "      <th>title</th>\n",
       "      <th>director</th>\n",
       "      <th>cast</th>\n",
       "      <th>country</th>\n",
       "      <th>date_added</th>\n",
       "      <th>release_year</th>\n",
       "      <th>rating</th>\n",
       "      <th>duration</th>\n",
       "      <th>listed_in</th>\n",
       "      <th>description</th>\n",
       "      <th>duration_show</th>\n",
       "      <th>unit_measure</th>\n",
       "    </tr>\n",
       "  </thead>\n",
       "  <tbody>\n",
       "    <tr>\n",
       "      <th>0</th>\n",
       "      <td>1</td>\n",
       "      <td>Movie</td>\n",
       "      <td>Dick Johnson Is Dead</td>\n",
       "      <td>Kirsten Johnson</td>\n",
       "      <td>NaN</td>\n",
       "      <td>United States</td>\n",
       "      <td>2021-09-25</td>\n",
       "      <td>2020</td>\n",
       "      <td>PG-13</td>\n",
       "      <td>90 min</td>\n",
       "      <td>Documentaries</td>\n",
       "      <td>As her father nears the end of his life; filmm...</td>\n",
       "      <td>90</td>\n",
       "      <td>min</td>\n",
       "    </tr>\n",
       "    <tr>\n",
       "      <th>1</th>\n",
       "      <td>2</td>\n",
       "      <td>TV Show</td>\n",
       "      <td>Blood &amp; Water</td>\n",
       "      <td>NaN</td>\n",
       "      <td>Ama Qamata; Khosi Ngema; Gail Mabalane; Thaban...</td>\n",
       "      <td>South Africa</td>\n",
       "      <td>2021-09-24</td>\n",
       "      <td>2021</td>\n",
       "      <td>TV-MA</td>\n",
       "      <td>2 Seasons</td>\n",
       "      <td>International TV Shows; TV Dramas; TV Mysteries</td>\n",
       "      <td>After crossing paths at a party; a Cape Town t...</td>\n",
       "      <td>2</td>\n",
       "      <td>Seasons</td>\n",
       "    </tr>\n",
       "  </tbody>\n",
       "</table>\n",
       "</div>"
      ],
      "text/plain": [
       "   show_id     type                 title         director  \\\n",
       "0        1    Movie  Dick Johnson Is Dead  Kirsten Johnson   \n",
       "1        2  TV Show         Blood & Water              NaN   \n",
       "\n",
       "                                                cast        country  \\\n",
       "0                                                NaN  United States   \n",
       "1  Ama Qamata; Khosi Ngema; Gail Mabalane; Thaban...   South Africa   \n",
       "\n",
       "   date_added  release_year rating   duration  \\\n",
       "0  2021-09-25          2020  PG-13     90 min   \n",
       "1  2021-09-24          2021  TV-MA  2 Seasons   \n",
       "\n",
       "                                         listed_in  \\\n",
       "0                                    Documentaries   \n",
       "1  International TV Shows; TV Dramas; TV Mysteries   \n",
       "\n",
       "                                         description duration_show  \\\n",
       "0  As her father nears the end of his life; filmm...            90   \n",
       "1  After crossing paths at a party; a Cape Town t...             2   \n",
       "\n",
       "  unit_measure  \n",
       "0          min  \n",
       "1      Seasons  "
      ]
     },
     "execution_count": 54,
     "metadata": {},
     "output_type": "execute_result"
    }
   ],
   "source": [
    "# split column and add new columns to df\n",
    "df[['duration_show', 'unit_measure']] = df['duration'].str.split(' ', expand=True)\n",
    "# display the dataframe\n",
    "df.head(2)"
   ]
  },
  {
   "cell_type": "code",
   "execution_count": 55,
   "id": "e23c1948",
   "metadata": {},
   "outputs": [],
   "source": [
    "df.drop(['duration'], axis=1, inplace=True)"
   ]
  },
  {
   "cell_type": "markdown",
   "id": "90a96323",
   "metadata": {},
   "source": [
    "Step 6: replace Seasons with Season"
   ]
  },
  {
   "cell_type": "code",
   "execution_count": 56,
   "id": "47dcf2de",
   "metadata": {},
   "outputs": [
    {
     "data": {
      "text/html": [
       "<div>\n",
       "<style scoped>\n",
       "    .dataframe tbody tr th:only-of-type {\n",
       "        vertical-align: middle;\n",
       "    }\n",
       "\n",
       "    .dataframe tbody tr th {\n",
       "        vertical-align: top;\n",
       "    }\n",
       "\n",
       "    .dataframe thead th {\n",
       "        text-align: right;\n",
       "    }\n",
       "</style>\n",
       "<table border=\"1\" class=\"dataframe\">\n",
       "  <thead>\n",
       "    <tr style=\"text-align: right;\">\n",
       "      <th></th>\n",
       "      <th>show_id</th>\n",
       "      <th>type</th>\n",
       "      <th>title</th>\n",
       "      <th>director</th>\n",
       "      <th>cast</th>\n",
       "      <th>country</th>\n",
       "      <th>date_added</th>\n",
       "      <th>release_year</th>\n",
       "      <th>rating</th>\n",
       "      <th>listed_in</th>\n",
       "      <th>description</th>\n",
       "      <th>duration_show</th>\n",
       "      <th>unit_measure</th>\n",
       "    </tr>\n",
       "  </thead>\n",
       "  <tbody>\n",
       "    <tr>\n",
       "      <th>0</th>\n",
       "      <td>1</td>\n",
       "      <td>Movie</td>\n",
       "      <td>Dick Johnson Is Dead</td>\n",
       "      <td>Kirsten Johnson</td>\n",
       "      <td>NaN</td>\n",
       "      <td>United States</td>\n",
       "      <td>2021-09-25</td>\n",
       "      <td>2020</td>\n",
       "      <td>PG-13</td>\n",
       "      <td>Documentaries</td>\n",
       "      <td>As her father nears the end of his life; filmm...</td>\n",
       "      <td>90</td>\n",
       "      <td>min</td>\n",
       "    </tr>\n",
       "    <tr>\n",
       "      <th>1</th>\n",
       "      <td>2</td>\n",
       "      <td>TV Show</td>\n",
       "      <td>Blood &amp; Water</td>\n",
       "      <td>NaN</td>\n",
       "      <td>Ama Qamata; Khosi Ngema; Gail Mabalane; Thaban...</td>\n",
       "      <td>South Africa</td>\n",
       "      <td>2021-09-24</td>\n",
       "      <td>2021</td>\n",
       "      <td>TV-MA</td>\n",
       "      <td>International TV Shows; TV Dramas; TV Mysteries</td>\n",
       "      <td>After crossing paths at a party; a Cape Town t...</td>\n",
       "      <td>2</td>\n",
       "      <td>Season</td>\n",
       "    </tr>\n",
       "    <tr>\n",
       "      <th>2</th>\n",
       "      <td>3</td>\n",
       "      <td>TV Show</td>\n",
       "      <td>Ganglands</td>\n",
       "      <td>Julien Leclercq</td>\n",
       "      <td>Sami Bouajila; Tracy Gotoas; Samuel Jouy; Nabi...</td>\n",
       "      <td>NaN</td>\n",
       "      <td>2021-09-24</td>\n",
       "      <td>2021</td>\n",
       "      <td>TV-MA</td>\n",
       "      <td>Crime TV Shows; International TV Shows; TV Act...</td>\n",
       "      <td>To protect his family from a powerful drug lor...</td>\n",
       "      <td>1</td>\n",
       "      <td>Season</td>\n",
       "    </tr>\n",
       "  </tbody>\n",
       "</table>\n",
       "</div>"
      ],
      "text/plain": [
       "   show_id     type                 title         director  \\\n",
       "0        1    Movie  Dick Johnson Is Dead  Kirsten Johnson   \n",
       "1        2  TV Show         Blood & Water              NaN   \n",
       "2        3  TV Show             Ganglands  Julien Leclercq   \n",
       "\n",
       "                                                cast        country  \\\n",
       "0                                                NaN  United States   \n",
       "1  Ama Qamata; Khosi Ngema; Gail Mabalane; Thaban...   South Africa   \n",
       "2  Sami Bouajila; Tracy Gotoas; Samuel Jouy; Nabi...            NaN   \n",
       "\n",
       "   date_added  release_year rating  \\\n",
       "0  2021-09-25          2020  PG-13   \n",
       "1  2021-09-24          2021  TV-MA   \n",
       "2  2021-09-24          2021  TV-MA   \n",
       "\n",
       "                                           listed_in  \\\n",
       "0                                      Documentaries   \n",
       "1    International TV Shows; TV Dramas; TV Mysteries   \n",
       "2  Crime TV Shows; International TV Shows; TV Act...   \n",
       "\n",
       "                                         description duration_show  \\\n",
       "0  As her father nears the end of his life; filmm...            90   \n",
       "1  After crossing paths at a party; a Cape Town t...             2   \n",
       "2  To protect his family from a powerful drug lor...             1   \n",
       "\n",
       "  unit_measure  \n",
       "0          min  \n",
       "1       Season  \n",
       "2       Season  "
      ]
     },
     "execution_count": 56,
     "metadata": {},
     "output_type": "execute_result"
    }
   ],
   "source": [
    "df['unit_measure'].replace('Seasons', 'Season', inplace=True)\n",
    "df.head(3)"
   ]
  },
  {
   "cell_type": "markdown",
   "id": "9e2a52bf",
   "metadata": {},
   "source": [
    "Step 7: for observations 194 and 366 remove the \";\" placed before country"
   ]
  },
  {
   "cell_type": "code",
   "execution_count": 57,
   "id": "efeef827",
   "metadata": {},
   "outputs": [],
   "source": [
    "df['country'].replace('; South Korea', 'South Korea', inplace=True)\n",
    "df['country'].replace('; France; Algeria', 'France; Algeria', inplace=True)"
   ]
  },
  {
   "cell_type": "markdown",
   "id": "0b717849",
   "metadata": {},
   "source": [
    "Step 8: format duration_show as a whole number (int)"
   ]
  },
  {
   "cell_type": "code",
   "execution_count": 58,
   "id": "697389e3",
   "metadata": {},
   "outputs": [
    {
     "data": {
      "text/html": [
       "<div>\n",
       "<style scoped>\n",
       "    .dataframe tbody tr th:only-of-type {\n",
       "        vertical-align: middle;\n",
       "    }\n",
       "\n",
       "    .dataframe tbody tr th {\n",
       "        vertical-align: top;\n",
       "    }\n",
       "\n",
       "    .dataframe thead th {\n",
       "        text-align: right;\n",
       "    }\n",
       "</style>\n",
       "<table border=\"1\" class=\"dataframe\">\n",
       "  <thead>\n",
       "    <tr style=\"text-align: right;\">\n",
       "      <th></th>\n",
       "      <th>count</th>\n",
       "      <th>mean</th>\n",
       "      <th>std</th>\n",
       "      <th>min</th>\n",
       "      <th>25%</th>\n",
       "      <th>50%</th>\n",
       "      <th>75%</th>\n",
       "      <th>max</th>\n",
       "    </tr>\n",
       "    <tr>\n",
       "      <th>type</th>\n",
       "      <th></th>\n",
       "      <th></th>\n",
       "      <th></th>\n",
       "      <th></th>\n",
       "      <th></th>\n",
       "      <th></th>\n",
       "      <th></th>\n",
       "      <th></th>\n",
       "    </tr>\n",
       "  </thead>\n",
       "  <tbody>\n",
       "    <tr>\n",
       "      <th>Movie</th>\n",
       "      <td>6129.0</td>\n",
       "      <td>99.553761</td>\n",
       "      <td>28.286702</td>\n",
       "      <td>3.0</td>\n",
       "      <td>87.0</td>\n",
       "      <td>98.0</td>\n",
       "      <td>114.0</td>\n",
       "      <td>312.0</td>\n",
       "    </tr>\n",
       "    <tr>\n",
       "      <th>TV Show</th>\n",
       "      <td>2665.0</td>\n",
       "      <td>1.751595</td>\n",
       "      <td>1.550399</td>\n",
       "      <td>1.0</td>\n",
       "      <td>1.0</td>\n",
       "      <td>1.0</td>\n",
       "      <td>2.0</td>\n",
       "      <td>17.0</td>\n",
       "    </tr>\n",
       "  </tbody>\n",
       "</table>\n",
       "</div>"
      ],
      "text/plain": [
       "          count       mean        std  min   25%   50%    75%    max\n",
       "type                                                                \n",
       "Movie    6129.0  99.553761  28.286702  3.0  87.0  98.0  114.0  312.0\n",
       "TV Show  2665.0   1.751595   1.550399  1.0   1.0   1.0    2.0   17.0"
      ]
     },
     "execution_count": 58,
     "metadata": {},
     "output_type": "execute_result"
    }
   ],
   "source": [
    "df['duration_show'] = df['duration_show'].astype('int')\n",
    "df['duration_show'].groupby(df['type']).describe()"
   ]
  },
  {
   "cell_type": "markdown",
   "id": "76c9c142",
   "metadata": {},
   "source": [
    "Step 9: Deal with outliers"
   ]
  },
  {
   "cell_type": "code",
   "execution_count": 59,
   "id": "bda067f9",
   "metadata": {},
   "outputs": [
    {
     "data": {
      "text/html": [
       "<div>\n",
       "<style scoped>\n",
       "    .dataframe tbody tr th:only-of-type {\n",
       "        vertical-align: middle;\n",
       "    }\n",
       "\n",
       "    .dataframe tbody tr th {\n",
       "        vertical-align: top;\n",
       "    }\n",
       "\n",
       "    .dataframe thead th {\n",
       "        text-align: right;\n",
       "    }\n",
       "</style>\n",
       "<table border=\"1\" class=\"dataframe\">\n",
       "  <thead>\n",
       "    <tr style=\"text-align: right;\">\n",
       "      <th></th>\n",
       "      <th>show_id</th>\n",
       "      <th>type</th>\n",
       "      <th>title</th>\n",
       "      <th>director</th>\n",
       "      <th>cast</th>\n",
       "      <th>country</th>\n",
       "      <th>date_added</th>\n",
       "      <th>release_year</th>\n",
       "      <th>rating</th>\n",
       "      <th>listed_in</th>\n",
       "      <th>description</th>\n",
       "      <th>duration_show</th>\n",
       "      <th>unit_measure</th>\n",
       "    </tr>\n",
       "  </thead>\n",
       "  <tbody>\n",
       "    <tr>\n",
       "      <th>717</th>\n",
       "      <td>718</td>\n",
       "      <td>Movie</td>\n",
       "      <td>Headspace: Unwind Your Mind</td>\n",
       "      <td>NaN</td>\n",
       "      <td>Andy Puddicombe; Evelyn Lewis Prieto; Ginger D...</td>\n",
       "      <td>NaN</td>\n",
       "      <td>2021-06-15</td>\n",
       "      <td>2021</td>\n",
       "      <td>TV-G</td>\n",
       "      <td>Documentaries</td>\n",
       "      <td>Do you want to relax; meditate or sleep deeply...</td>\n",
       "      <td>273</td>\n",
       "      <td>min</td>\n",
       "    </tr>\n",
       "    <tr>\n",
       "      <th>2484</th>\n",
       "      <td>2485</td>\n",
       "      <td>Movie</td>\n",
       "      <td>Lock Your Girls In</td>\n",
       "      <td>Fouad El-Mohandes</td>\n",
       "      <td>Fouad El-Mohandes; Sanaa Younes; Sherihan; Ahm...</td>\n",
       "      <td>NaN</td>\n",
       "      <td>2020-05-21</td>\n",
       "      <td>1982</td>\n",
       "      <td>TV-PG</td>\n",
       "      <td>Comedies; International Movies; Romantic Movies</td>\n",
       "      <td>A widower believes he must marry off his three...</td>\n",
       "      <td>233</td>\n",
       "      <td>min</td>\n",
       "    </tr>\n",
       "    <tr>\n",
       "      <th>2487</th>\n",
       "      <td>2488</td>\n",
       "      <td>Movie</td>\n",
       "      <td>No Longer kids</td>\n",
       "      <td>Samir Al Asfory</td>\n",
       "      <td>Said Saleh; Hassan Moustafa; Ahmed Zaki; Youne...</td>\n",
       "      <td>Egypt</td>\n",
       "      <td>2020-05-21</td>\n",
       "      <td>1979</td>\n",
       "      <td>TV-14</td>\n",
       "      <td>Comedies; Dramas; International Movies</td>\n",
       "      <td>Hoping to prevent their father from skipping t...</td>\n",
       "      <td>237</td>\n",
       "      <td>min</td>\n",
       "    </tr>\n",
       "    <tr>\n",
       "      <th>2491</th>\n",
       "      <td>2492</td>\n",
       "      <td>Movie</td>\n",
       "      <td>The School of Mischief</td>\n",
       "      <td>Houssam El-Din Mustafa</td>\n",
       "      <td>Suhair El-Babili; Adel Emam; Saeed Saleh; Youn...</td>\n",
       "      <td>Egypt</td>\n",
       "      <td>2020-05-21</td>\n",
       "      <td>1973</td>\n",
       "      <td>TV-14</td>\n",
       "      <td>Comedies; Dramas; International Movies</td>\n",
       "      <td>A high school teacher volunteers to transform ...</td>\n",
       "      <td>253</td>\n",
       "      <td>min</td>\n",
       "    </tr>\n",
       "    <tr>\n",
       "      <th>4253</th>\n",
       "      <td>4254</td>\n",
       "      <td>Movie</td>\n",
       "      <td>Black Mirror: Bandersnatch</td>\n",
       "      <td>NaN</td>\n",
       "      <td>Fionn Whitehead; Will Poulter; Craig Parkinson...</td>\n",
       "      <td>United States</td>\n",
       "      <td>2018-12-28</td>\n",
       "      <td>2018</td>\n",
       "      <td>TV-MA</td>\n",
       "      <td>Dramas; International Movies; Sci-Fi &amp; Fantasy</td>\n",
       "      <td>In 1984; a young programmer begins to question...</td>\n",
       "      <td>312</td>\n",
       "      <td>min</td>\n",
       "    </tr>\n",
       "  </tbody>\n",
       "</table>\n",
       "</div>"
      ],
      "text/plain": [
       "      show_id   type                        title                director  \\\n",
       "717       718  Movie  Headspace: Unwind Your Mind                     NaN   \n",
       "2484     2485  Movie           Lock Your Girls In       Fouad El-Mohandes   \n",
       "2487     2488  Movie               No Longer kids         Samir Al Asfory   \n",
       "2491     2492  Movie       The School of Mischief  Houssam El-Din Mustafa   \n",
       "4253     4254  Movie   Black Mirror: Bandersnatch                     NaN   \n",
       "\n",
       "                                                   cast        country  \\\n",
       "717   Andy Puddicombe; Evelyn Lewis Prieto; Ginger D...            NaN   \n",
       "2484  Fouad El-Mohandes; Sanaa Younes; Sherihan; Ahm...            NaN   \n",
       "2487  Said Saleh; Hassan Moustafa; Ahmed Zaki; Youne...          Egypt   \n",
       "2491  Suhair El-Babili; Adel Emam; Saeed Saleh; Youn...          Egypt   \n",
       "4253  Fionn Whitehead; Will Poulter; Craig Parkinson...  United States   \n",
       "\n",
       "      date_added  release_year rating  \\\n",
       "717   2021-06-15          2021   TV-G   \n",
       "2484  2020-05-21          1982  TV-PG   \n",
       "2487  2020-05-21          1979  TV-14   \n",
       "2491  2020-05-21          1973  TV-14   \n",
       "4253  2018-12-28          2018  TV-MA   \n",
       "\n",
       "                                            listed_in  \\\n",
       "717                                     Documentaries   \n",
       "2484  Comedies; International Movies; Romantic Movies   \n",
       "2487           Comedies; Dramas; International Movies   \n",
       "2491           Comedies; Dramas; International Movies   \n",
       "4253   Dramas; International Movies; Sci-Fi & Fantasy   \n",
       "\n",
       "                                            description  duration_show  \\\n",
       "717   Do you want to relax; meditate or sleep deeply...            273   \n",
       "2484  A widower believes he must marry off his three...            233   \n",
       "2487  Hoping to prevent their father from skipping t...            237   \n",
       "2491  A high school teacher volunteers to transform ...            253   \n",
       "4253  In 1984; a young programmer begins to question...            312   \n",
       "\n",
       "     unit_measure  \n",
       "717           min  \n",
       "2484          min  \n",
       "2487          min  \n",
       "2491          min  \n",
       "4253          min  "
      ]
     },
     "execution_count": 59,
     "metadata": {},
     "output_type": "execute_result"
    }
   ],
   "source": [
    "df.loc[(df['duration_show'] >230) & (df['type']=='Movie')]"
   ]
  },
  {
   "cell_type": "code",
   "execution_count": 60,
   "id": "c98887b1",
   "metadata": {},
   "outputs": [
    {
     "data": {
      "text/plain": [
       "(8789, 13)"
      ]
     },
     "execution_count": 60,
     "metadata": {},
     "output_type": "execute_result"
    }
   ],
   "source": [
    "df.drop(df[df.duration_show > 230].index, inplace=True)\n",
    "df.shape"
   ]
  },
  {
   "cell_type": "markdown",
   "id": "1b26a9af",
   "metadata": {},
   "source": [
    "Step 10: Make sure that title is a string (some movies have dates as title) and release_year is a integer"
   ]
  },
  {
   "cell_type": "code",
   "execution_count": 61,
   "id": "b5420e5f",
   "metadata": {},
   "outputs": [
    {
     "data": {
      "text/plain": [
       "count                     8789\n",
       "unique                    8789\n",
       "top       Dick Johnson Is Dead\n",
       "freq                         1\n",
       "Name: title, dtype: object"
      ]
     },
     "execution_count": 61,
     "metadata": {},
     "output_type": "execute_result"
    }
   ],
   "source": [
    "df['title'].describe()"
   ]
  },
  {
   "cell_type": "code",
   "execution_count": 62,
   "id": "aa3106fd",
   "metadata": {},
   "outputs": [
    {
     "data": {
      "text/plain": [
       "0        Dick Johnson Is Dead\n",
       "1               Blood & Water\n",
       "2                   Ganglands\n",
       "3       Jailbirds New Orleans\n",
       "4                Kota Factory\n",
       "                ...          \n",
       "8802                   Zodiac\n",
       "8803              Zombie Dumb\n",
       "8804               Zombieland\n",
       "8805                     Zoom\n",
       "8806                   Zubaan\n",
       "Name: title, Length: 8789, dtype: object"
      ]
     },
     "execution_count": 62,
     "metadata": {},
     "output_type": "execute_result"
    }
   ],
   "source": [
    "df['title'].astype('str')"
   ]
  },
  {
   "cell_type": "code",
   "execution_count": 63,
   "id": "c0d26208",
   "metadata": {},
   "outputs": [
    {
     "data": {
      "text/plain": [
       "0       2020\n",
       "1       2021\n",
       "2       2021\n",
       "3       2021\n",
       "4       2021\n",
       "        ... \n",
       "8802    2007\n",
       "8803    2018\n",
       "8804    2009\n",
       "8805    2006\n",
       "8806    2015\n",
       "Name: release_year, Length: 8789, dtype: int64"
      ]
     },
     "execution_count": 63,
     "metadata": {},
     "output_type": "execute_result"
    }
   ],
   "source": [
    "df['release_year'].astype('int')"
   ]
  },
  {
   "cell_type": "code",
   "execution_count": 64,
   "id": "9b16ac16",
   "metadata": {},
   "outputs": [
    {
     "name": "stdout",
     "output_type": "stream",
     "text": [
      "<class 'pandas.core.frame.DataFrame'>\n",
      "Int64Index: 8789 entries, 0 to 8806\n",
      "Data columns (total 13 columns):\n",
      " #   Column         Non-Null Count  Dtype \n",
      "---  ------         --------------  ----- \n",
      " 0   show_id        8789 non-null   int64 \n",
      " 1   type           8789 non-null   object\n",
      " 2   title          8789 non-null   object\n",
      " 3   director       6168 non-null   object\n",
      " 4   cast           7964 non-null   object\n",
      " 5   country        7962 non-null   object\n",
      " 6   date_added     8789 non-null   object\n",
      " 7   release_year   8789 non-null   int64 \n",
      " 8   rating         8789 non-null   object\n",
      " 9   listed_in      8789 non-null   object\n",
      " 10  description    8789 non-null   object\n",
      " 11  duration_show  8789 non-null   int64 \n",
      " 12  unit_measure   8789 non-null   object\n",
      "dtypes: int64(3), object(10)\n",
      "memory usage: 961.3+ KB\n"
     ]
    }
   ],
   "source": [
    "df.info()"
   ]
  },
  {
   "cell_type": "markdown",
   "id": "08f6f41c",
   "metadata": {},
   "source": [
    "Step 11: fill empty cells for director, cast and country with NaN"
   ]
  },
  {
   "cell_type": "code",
   "execution_count": 65,
   "id": "c5c7bc2f",
   "metadata": {},
   "outputs": [],
   "source": [
    "df['director'].fillna(np.NaN, inplace=True)\n",
    "df['cast'].fillna(np.NaN, inplace=True)\n",
    "df['country'].fillna(np.NaN, inplace=True)"
   ]
  },
  {
   "cell_type": "markdown",
   "id": "27a1795d",
   "metadata": {},
   "source": [
    "Step 12: Save all changes into a new csv labeled \"DataSchool_Netflix_Clean.csv\""
   ]
  },
  {
   "cell_type": "code",
   "execution_count": 66,
   "id": "50d067c9",
   "metadata": {},
   "outputs": [],
   "source": [
    "df.to_csv('DataSchool_Netflix_Clean.csv')"
   ]
  },
  {
   "cell_type": "code",
   "execution_count": 67,
   "id": "878072c2",
   "metadata": {},
   "outputs": [],
   "source": [
    "df.to_excel('DataSchool_Netflix_Clean.xlsx', encoding='utf-8')"
   ]
  },
  {
   "cell_type": "code",
   "execution_count": null,
   "id": "ceb4d034",
   "metadata": {},
   "outputs": [],
   "source": []
  }
 ],
 "metadata": {
  "kernelspec": {
   "display_name": "Python 3 (ipykernel)",
   "language": "python",
   "name": "python3"
  },
  "language_info": {
   "codemirror_mode": {
    "name": "ipython",
    "version": 3
   },
   "file_extension": ".py",
   "mimetype": "text/x-python",
   "name": "python",
   "nbconvert_exporter": "python",
   "pygments_lexer": "ipython3",
   "version": "3.8.13"
  }
 },
 "nbformat": 4,
 "nbformat_minor": 5
}
